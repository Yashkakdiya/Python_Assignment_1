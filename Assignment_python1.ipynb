{
  "nbformat": 4,
  "nbformat_minor": 0,
  "metadata": {
    "colab": {
      "provenance": []
    },
    "kernelspec": {
      "name": "python3",
      "display_name": "Python 3"
    },
    "language_info": {
      "name": "python"
    }
  },
  "cells": [
    {
      "cell_type": "code",
      "execution_count": null,
      "metadata": {
        "colab": {
          "base_uri": "https://localhost:8080/"
        },
        "id": "5lxq6EzV-KAj",
        "outputId": "bc6a2ba7-6fde-45d9-ed6f-7b0f65682815"
      },
      "outputs": [
        {
          "output_type": "stream",
          "name": "stdout",
          "text": [
            "Enter the first number: 10\n",
            "Enter the second number: 3\n",
            "\n",
            "Addition: 10.0 + 3.0 = 13.0\n",
            "Subtraction: 10.0 - 3.0 = 7.0\n",
            "Multiplication: 10.0 * 3.0 = 30.0\n",
            "Division: 10.0 / 3.0 = 3.3333333333333335\n"
          ]
        }
      ],
      "source": [
        "#Assignment 1: Exercises on Operators, Strings, and Lists\n",
        "\n",
        "#Part 1: Operators\n",
        "\n",
        "#Exercise 1: Arithmetic Operators\n",
        "\n",
        "#Write a Python program to perform the following operations:\n",
        "\n",
        "#1. Add, subtract, multiply, and divide two numbers (input by the user).\n",
        "\n",
        "# Get user input for two numbers\n",
        "num1 = float(input(\"Enter the first number: \"))\n",
        "num2 = float(input(\"Enter the second number: \"))\n",
        "\n",
        "#Perform calculations\n",
        "add = num1 + num2\n",
        "sub = num1 - num2\n",
        "multi = num1 * num2\n",
        "\n",
        "#division by zero\n",
        "if num2 != 0:\n",
        "    division = num1 / num2\n",
        "else:\n",
        "    division = \"undefined (cannot divide by zero)\"\n",
        "\n",
        "# Display results\n",
        "print(f\"\\nAddition: {num1} + {num2} = {add}\")\n",
        "print(f\"Subtraction: {num1} - {num2} = {sub}\")\n",
        "print(f\"Multiplication: {num1} * {num2} = {multi}\")\n",
        "print(f\"Division: {num1} / {num2} = {division}\")\n",
        "\n"
      ]
    },
    {
      "cell_type": "code",
      "source": [
        "#2 Use the modulus operator to find the remainder of their division.\n",
        "# Get user input for two numbers\n",
        "num1 = float(input(\"Enter the first number: \"))\n",
        "num2 = float(input(\"Enter the second number: \"))\n",
        "\n",
        "# Perform calculations\n",
        "# add = num1 + num2\n",
        "# sub = num1 - num2\n",
        "# multi = num1 * num2\n",
        "remainder = num1 % num2\n",
        "\n",
        "# #division and modulus by zero\n",
        "# if num2 != 0:\n",
        "#     division = num1 / num2\n",
        "#     remainder = num1 % num2\n",
        "# else:\n",
        "#     division = \"undefined (cannot divide by zero)\"\n",
        "#     remainder = \"undefined (cannot find remainder by zero)\"\n",
        "\n",
        "# Display results\n",
        "# print(f\"\\nAddition: {num1} + {num2} = {add}\")\n",
        "# print(f\"Subtraction: {num1} - {num2} = {sub}\")\n",
        "# print(f\"Multiplication: {num1} * {num2} = {multi}\")\n",
        "# print(f\"Division: {num1} / {num2} = {division}\")\n",
        "#print(f\"Remainder (Modulus): {num1} % {num2} = {remainder}\")\n",
        "print(remainder)"
      ],
      "metadata": {
        "colab": {
          "base_uri": "https://localhost:8080/"
        },
        "id": "e3MqTzcH_rBV",
        "outputId": "f45de547-8617-4d00-fc9f-6627d67dbc60"
      },
      "execution_count": null,
      "outputs": [
        {
          "output_type": "stream",
          "name": "stdout",
          "text": [
            "Enter the first number: 10\n",
            "Enter the second number: 3\n",
            "1.0\n"
          ]
        }
      ]
    },
    {
      "cell_type": "code",
      "source": [
        "#3 Use the exponentiation operator to raise the first number to the power of the second\n",
        "#number.\n",
        "\n",
        "# Get user input for two numbers\n",
        "num1 = float(input(\"Enter the first number: \"))\n",
        "num2 = float(input(\"Enter the second number: \"))\n",
        "\n",
        "# Perform calculations\n",
        "addition = num1 + num2\n",
        "subtraction = num1 - num2\n",
        "multiplication = num1 * num2\n",
        "\n",
        "#division and modulus by zero\n",
        "if num2 != 0:\n",
        "    division = num1 / num2\n",
        "    remainder = num1 % num2\n",
        "else:\n",
        "    division = \"undefined (cannot divide by zero)\"\n",
        "    remainder = \"undefined (cannot find remainder by zero)\"\n",
        "\n",
        "# Exponentiation (num1 raised to the power of num2)\n",
        "exponentiation = num1 ** num2\n",
        "\n",
        "# Display results\n",
        "print(f\"\\nAddition: {num1} + {num2} = {addition}\")\n",
        "print(f\"Subtraction: {num1} - {num2} = {subtraction}\")\n",
        "print(f\"Multiplication: {num1} * {num2} = {multiplication}\")\n",
        "print(f\"Division: {num1} / {num2} = {division}\")\n",
        "print(f\"Remainder (Modulus): {num1} % {num2} = {remainder}\")\n",
        "print(f\"Exponentiation: {num1} ** {num2} = {exponentiation}\")\n"
      ],
      "metadata": {
        "colab": {
          "base_uri": "https://localhost:8080/"
        },
        "id": "PxjfCA2gBKzU",
        "outputId": "1fd0eaf8-00cb-4c39-8684-9223de6575ae"
      },
      "execution_count": null,
      "outputs": [
        {
          "output_type": "stream",
          "name": "stdout",
          "text": [
            "Enter the first number: 10\n",
            "Enter the second number: 3\n",
            "\n",
            "Addition: 10.0 + 3.0 = 13.0\n",
            "Subtraction: 10.0 - 3.0 = 7.0\n",
            "Multiplication: 10.0 * 3.0 = 30.0\n",
            "Division: 10.0 / 3.0 = 3.3333333333333335\n",
            "Remainder (Modulus): 10.0 % 3.0 = 1.0\n",
            "Exponentiation: 10.0 ** 3.0 = 1000.0\n"
          ]
        }
      ]
    },
    {
      "cell_type": "code",
      "source": [
        "#4 Perform floor division on the two numbers.\n",
        "\n",
        "# Get user input for two numbers\n",
        "num1 = float(input(\"Enter the first number: \"))\n",
        "num2 = float(input(\"Enter the second number: \"))\n",
        "\n",
        "# Perform calculations\n",
        "addition = num1 + num2\n",
        "subtraction = num1 - num2\n",
        "multiplication = num1 * num2\n",
        "\n",
        "#division, modulus, and floor division by zero\n",
        "if num2 != 0:\n",
        "    division = num1 / num2\n",
        "    remainder = num1 % num2\n",
        "    floor_division = num1 // num2\n",
        "else:\n",
        "    division = \"undefined (cannot divide by zero)\"\n",
        "    remainder = \"undefined (cannot find remainder by zero)\"\n",
        "    floor_division = \"undefined (cannot perform floor division by zero)\"\n",
        "\n",
        "# Exponentiation (num1 raised to the power of num2)\n",
        "exponentiation = num1 ** num2\n",
        "\n",
        "\n",
        "# Display results\n",
        "print(f\"\\nAddition: {num1} + {num2} = {addition}\")\n",
        "print(f\"Subtraction: {num1} - {num2} = {subtraction}\")\n",
        "print(f\"Multiplication: {num1} * {num2} = {multiplication}\")\n",
        "print(f\"Division: {num1} / {num2} = {division}\")\n",
        "print(f\"Remainder (Modulus): {num1} % {num2} = {remainder}\")\n",
        "print(f\"Exponentiation: {num1} ** {num2} = {exponentiation}\")\n",
        "print(f\"Floor Division: {num1} // {num2} = {floor_division}\")\n"
      ],
      "metadata": {
        "id": "ZYmFc5IfBovX"
      },
      "execution_count": null,
      "outputs": []
    },
    {
      "cell_type": "code",
      "source": [
        "#Exercise 2: Comparison Operators\n",
        "#Write a Python program that asks for two numbers and checks:\n",
        "\n",
        "#1. Add, subtract, multiply, and divide two numbers (input by the user).\n",
        "num1 = float(input(\"Enter the first number: \"))\n",
        "num2 = float(input(\"Enter the second number: \"))\n",
        "\n",
        "addition = num1 + num2\n",
        "subtraction = num1 - num2\n",
        "multiplication = num1 * num2\n",
        "division = num1/num2\n",
        "\n",
        "# Displaying the results\n",
        "print(f\"Addition: {num1} + {num2} = {addition}\")\n",
        "print(f\"Subtraction: {num1} - {num2} = {subtraction}\")\n",
        "print(f\"Multiplication: {num1} * {num2} = {multiplication}\")\n",
        "print(f\"Division: {num1} / {num2} = {division}\")\n"
      ],
      "metadata": {
        "colab": {
          "base_uri": "https://localhost:8080/"
        },
        "id": "kMsbHeAsDV6Q",
        "outputId": "b5ca837c-5a2f-45bd-ddd0-b6425cb4aeac"
      },
      "execution_count": 3,
      "outputs": [
        {
          "output_type": "stream",
          "name": "stdout",
          "text": [
            "Enter the first number: 10\n",
            "Enter the second number: 3\n",
            "Addition: 10.0 + 3.0 = 13.0\n",
            "Subtraction: 10.0 - 3.0 = 7.0\n",
            "Multiplication: 10.0 * 3.0 = 30.0\n",
            "Division: 10.0 / 3.0 = 3.3333333333333335\n"
          ]
        }
      ]
    },
    {
      "cell_type": "code",
      "source": [
        "#2. Use the modulus operator to find the remainder of their division.\n",
        "\n",
        "# Taking input from the user\n",
        "num1 = float(input(\"Enter the first number: \"))\n",
        "num2 = float(input(\"Enter the second number: \"))\n",
        "\n",
        "if num2 == 0:\n",
        "    print(\"Modulus operation undefined (cannot divide by zero).\")\n",
        "else:\n",
        "    modulus = num1 % num2\n",
        "    print(modulus)\n",
        ""
      ],
      "metadata": {
        "colab": {
          "base_uri": "https://localhost:8080/"
        },
        "id": "evAqZNskEz_y",
        "outputId": "c4f75662-3963-4ae2-9282-12987257a0c6"
      },
      "execution_count": 5,
      "outputs": [
        {
          "output_type": "stream",
          "name": "stdout",
          "text": [
            "Enter the first number: 10\n",
            "Enter the second number: 3\n",
            "1.0\n"
          ]
        }
      ]
    },
    {
      "cell_type": "markdown",
      "source": [],
      "metadata": {
        "id": "LQg8zFd-FkJF"
      }
    },
    {
      "cell_type": "code",
      "source": [
        "#3. Use the exponentiation operator to raise the first number to the power of the second number.\n",
        "\n",
        "\n",
        "\n",
        "# Taking input from the user\n",
        "num1 = float(input(\"Enter the base number: \"))\n",
        "num2 = float(input(\"Enter the exponent: \"))\n",
        "\n",
        "# Performing the exponentiation\n",
        "result = num1 ** num2\n",
        "print(result)\n",
        "\n",
        "\n"
      ],
      "metadata": {
        "colab": {
          "base_uri": "https://localhost:8080/"
        },
        "id": "PjAV8AjxFfJR",
        "outputId": "d683ae5f-f0ab-4948-9cec-331f84024062"
      },
      "execution_count": 6,
      "outputs": [
        {
          "output_type": "stream",
          "name": "stdout",
          "text": [
            "Enter the base number: 10\n",
            "Enter the exponent: 3\n",
            "1000.0\n"
          ]
        }
      ]
    },
    {
      "cell_type": "code",
      "source": [
        "#4. Perform floor division on the two numbers.\n",
        "\n",
        " # Taking input from the user\n",
        "num1 = float(input(\"Enter the first number: \"))\n",
        "num2 = float(input(\"Enter the second number: \"))\n",
        "\n",
        "if num2 == 0:\n",
        "    print(\"Floor division undefined (cannot divide by zero).\")\n",
        "else:\n",
        "    result = num1 // num2\n",
        "    print(result)"
      ],
      "metadata": {
        "colab": {
          "base_uri": "https://localhost:8080/"
        },
        "id": "mvrZWshdGLTV",
        "outputId": "e5388a49-14b9-4832-da59-3f5cf649da26"
      },
      "execution_count": 7,
      "outputs": [
        {
          "output_type": "stream",
          "name": "stdout",
          "text": [
            "Enter the first number: 10\n",
            "Enter the second number: 3\n",
            "3.0\n"
          ]
        }
      ]
    },
    {
      "cell_type": "code",
      "source": [
        "#Exercise 2: Comparison Operators\n",
        "#Write a Python program that asks for two numbers and checks:\n",
        "#1. If the first number is greater than the second.\n",
        "\n",
        "# Taking input from the user\n",
        "num1 = float(input(\"Enter the first number: \"))\n",
        "num2 = float(input(\"Enter the second number: \"))\n",
        "\n",
        "# Checking if the first number is greater than the second\n",
        "if num1 > num2:\n",
        "  print(f\"{num1} is greater than {num2}.\")\n",
        "else:\n",
        "  print(f\"{num1} is not greater than {num2}.\")"
      ],
      "metadata": {
        "colab": {
          "base_uri": "https://localhost:8080/"
        },
        "id": "NRMJQAYgGl0w",
        "outputId": "5732992a-5443-488b-9769-600f543b64c0"
      },
      "execution_count": 8,
      "outputs": [
        {
          "output_type": "stream",
          "name": "stdout",
          "text": [
            "Enter the first number: 10\n",
            "Enter the second number: 12\n",
            "10.0 is not greater than 12.0.\n"
          ]
        }
      ]
    },
    {
      "cell_type": "code",
      "source": [
        "#2 If the first number is equal to the second.\n",
        "\n",
        "# Taking input from the user\n",
        "num1 = float(input(\"Enter the first number: \"))\n",
        "num2 = float(input(\"Enter the second number: \"))\n",
        "\n",
        "# Checking if the equal or not\n",
        "if num1 == num2:\n",
        "  print(f\"{num1} is equal to {num2}.\")\n",
        "else:\n",
        "  print(f\"{num1} is not equal to {num2}.\")"
      ],
      "metadata": {
        "colab": {
          "base_uri": "https://localhost:8080/"
        },
        "id": "uT_YM7sTHWbh",
        "outputId": "eef44e95-d757-4a82-90b1-1703d4bb0f3f"
      },
      "execution_count": 9,
      "outputs": [
        {
          "output_type": "stream",
          "name": "stdout",
          "text": [
            "Enter the first number: 10\n",
            "Enter the second number: 10\n",
            "10.0 is equal to 10.0.\n"
          ]
        }
      ]
    },
    {
      "cell_type": "code",
      "source": [
        "#3. If the first number is less than or equal to the second.\n",
        "\n",
        "# Taking input from the user\n",
        "num1 = float(input(\"Enter the first number: \"))\n",
        "num2 = float(input(\"Enter the second number: \"))\n",
        "\n",
        "# Checking if the first number is less than or equal to the second\n",
        "if num1 <= num2:\n",
        "  print(f\"{num1} is less than or equal to {num2}.\")\n",
        "else:\n",
        "  print(f\"{num1} is greater than {num2}.\")"
      ],
      "metadata": {
        "colab": {
          "base_uri": "https://localhost:8080/"
        },
        "id": "JkPIVEQiH7t8",
        "outputId": "80026e24-f7ed-4397-941b-aa2a92d5a719"
      },
      "execution_count": 10,
      "outputs": [
        {
          "output_type": "stream",
          "name": "stdout",
          "text": [
            "Enter the first number: 10\n",
            "Enter the second number: 15\n",
            "10.0 is less than or equal to 15.0.\n"
          ]
        }
      ]
    },
    {
      "cell_type": "code",
      "source": [
        "#Exercise 3: Logical Operators\n",
        "#Write a Python program that:\n",
        "#1. Takes three boolean values (True or False) as input.\n",
        "\n",
        " # Taking boolean inputs from the user and converting to boolean\n",
        "bool1 = input(\"Enter the first boolean value (True/False): \").strip().capitalize() == \"True\"\n",
        "bool2 = input(\"Enter the second boolean value (True/False): \").strip().capitalize() == \"True\"\n",
        "bool3 = input(\"Enter the third boolean value (True/False): \").strip().capitalize() == \"True\"\n",
        "\n",
        "# Displaying the boolean inputs\n",
        "print(bool1)\n",
        "print(bool2)\n",
        "print(bool3)\n",
        "\n"
      ],
      "metadata": {
        "colab": {
          "base_uri": "https://localhost:8080/"
        },
        "id": "1v8ua5piIWZ9",
        "outputId": "a57b0d58-1942-4652-a9bc-90f14d618aa9"
      },
      "execution_count": 13,
      "outputs": [
        {
          "output_type": "stream",
          "name": "stdout",
          "text": [
            "Enter the first boolean value (True/False): 12\n",
            "Enter the second boolean value (True/False): 123\n",
            "Enter the third boolean value (True/False): 13\n",
            "False\n",
            "False\n",
            "False\n"
          ]
        }
      ]
    },
    {
      "cell_type": "code",
      "source": [
        "#2. Uses and, or, and not operators to return the result of combining them.\n",
        "\n",
        "bool1 = input(\"Enter the first boolean value (True/False): \").strip().capitalize() == \"True\"\n",
        "bool2 = input(\"Enter the second boolean value (True/False): \").strip().capitalize() == \"True\"\n",
        "bool3 = input(\"Enter the third boolean value (True/False): \").strip().capitalize() == \"True\"\n",
        "\n",
        " # Using logical operators\n",
        "and_result = bool1 and bool2 and bool3\n",
        "or_result = bool1 or bool2 or bool3\n",
        "not_bool1 = not bool1\n",
        "not_bool2 = not bool2\n",
        "not_bool3 = not bool3\n",
        "\n",
        " # Displaying the results\n",
        "print(and_result)\n",
        "print(or_result)\n",
        "print(not_bool1)"
      ],
      "metadata": {
        "colab": {
          "base_uri": "https://localhost:8080/"
        },
        "id": "6y0g9saxI8MG",
        "outputId": "6953c65d-cf2d-495d-c117-50b5cc360df3"
      },
      "execution_count": 14,
      "outputs": [
        {
          "output_type": "stream",
          "name": "stdout",
          "text": [
            "Enter the first boolean value (True/False): yash\n",
            "Enter the second boolean value (True/False): kakdia\n",
            "Enter the third boolean value (True/False): bha\n",
            "False\n",
            "False\n",
            "True\n"
          ]
        }
      ]
    },
    {
      "cell_type": "code",
      "source": [
        "#Part 2: Strings\n",
        "#Exercise 4: String Manipulation\n",
        "#1. Take a string input from the user.\n",
        "\n",
        "# Function to perform string manipulation\n",
        "# Taking string input from the user\n",
        "x = input(\"Enter a string: \")\n",
        "\n",
        "# Calculating the length of the string\n",
        "length = len(x)\n",
        "\n",
        "# Getting the first and last character\n",
        "first_character = x[0] if length > 0 else \"N/A\"\n",
        "last_character = [-1] if length > 0 else \"N/A\"\n",
        "\n",
        "# Reversing the string\n",
        "reversed_string = x[::-1]\n",
        "\n",
        "# Converting to uppercase and lowercase\n",
        "uppercase_string = x.upper()\n",
        "lowercase_string = x.lower()\n",
        "\n",
        "# Displaying the results\n",
        "print(f\"Length of the string: {length}\")\n",
        "print(f\"First character: {first_character}\")\n",
        "print(f\"Last character: {last_character}\")\n",
        "print(f\"Reversed string: '{reversed_string}'\")\n",
        "print(f\"Uppercase: '{uppercase_string}'\")\n",
        "print(f\"Lowercase: '{lowercase_string}'\")\n",
        "\n",
        "\n"
      ],
      "metadata": {
        "colab": {
          "base_uri": "https://localhost:8080/"
        },
        "id": "ZKzUyXVQKeCq",
        "outputId": "25e35f6e-ee7d-42e4-fab8-ee513c187fe5"
      },
      "execution_count": 15,
      "outputs": [
        {
          "output_type": "stream",
          "name": "stdout",
          "text": [
            "Enter a string: yash kakdiya\n",
            "Length of the string: 12\n",
            "First character: y\n",
            "Last character: [-1]\n",
            "Reversed string: 'ayidkak hsay'\n",
            "Uppercase: 'YASH KAKDIYA'\n",
            "Lowercase: 'yash kakdiya'\n"
          ]
        }
      ]
    },
    {
      "cell_type": "code",
      "source": [
        "#Exercise 5: String Formatting\n",
        "#Write a program that asks for the user's name and age, and displays the message in this format:\n",
        "#Hello [Name], you are [Age] years old.\n",
        "\n",
        "# Taking input from the user\n",
        "name = input(\"What is your name? \")\n",
        "age = input(\"How old are you? \")\n",
        "\n",
        "# Displaying the message\n",
        "print(f\"Hello {name}, you are {age} years old.\")\n"
      ],
      "metadata": {
        "colab": {
          "base_uri": "https://localhost:8080/"
        },
        "id": "ED5VBqpoLsXV",
        "outputId": "5f19ad37-bea5-4761-e073-bf82a9417e16"
      },
      "execution_count": 17,
      "outputs": [
        {
          "output_type": "stream",
          "name": "stdout",
          "text": [
            "What is your name? kakdiya yash\n",
            "How old are you? 1\n",
            "Hello kakdiya yash, you are 1 years old.\n"
          ]
        }
      ]
    },
    {
      "cell_type": "code",
      "source": [
        "#Exercise 6: Substring Search\n",
        "#Write a Python program that:\n",
        "#1. Asks for a sentence input from the user.\n",
        "#2. Asks for a word to search in the sentence.\n",
        "#3. Outputs whether the word exists in the sentence and, if it does, at which position (index).\n",
        "\n",
        " # Asking for a sentence input from the user\n",
        "sentence = input(\"Enter a sentence: \")\n",
        "\n",
        "# Asking for a word to search in the sentence\n",
        "word = input(\"Enter a word to search for: \")\n",
        "\n",
        "# Checking if the word exists in the sentence\n",
        "position = sentence.find(word)\n",
        "\n",
        "# Outputting the result\n",
        "if position != -1:\n",
        "  print(f\"The word '{word}' exists in the sentence at position {position}.\")\n",
        "else:\n",
        "  print(f\"The word '{word}' does not exist in the sentence.\")\n",
        "\n",
        "\n"
      ],
      "metadata": {
        "colab": {
          "base_uri": "https://localhost:8080/"
        },
        "id": "ZyOIhzvVMQY2",
        "outputId": "96d57bad-17f6-4457-cd4a-8cfa08e08130"
      },
      "execution_count": 20,
      "outputs": [
        {
          "output_type": "stream",
          "name": "stdout",
          "text": [
            "Enter a sentence: yash kakdiya\n",
            "Enter a word to search for: a\n",
            "The word 'a' exists in the sentence at position 1.\n"
          ]
        }
      ]
    },
    {
      "cell_type": "code",
      "source": [
        "# Part 3: Lists\n",
        "# Exercise 7: List Operations Write a Python program that:\n",
        "# 1. Creates a list of 5 numbers (input from the user).\n",
        "# 2. Displays the sum of all the numbers in the list.\n",
        "# 3. Finds the largest and smallest number in the list.\n",
        "# Function to perform list operations\n",
        "def list_operations():\n",
        "    numbers = []  # Initialize an empty list\n",
        "\n",
        "    # Asking the user for 5 numbers\n",
        "    for i in range(5):\n",
        "        while True:  # Loop until a valid number is entered\n",
        "            try:\n",
        "                num = float(input(f\"Enter number {i + 1}: \"))  # Take input and convert to float\n",
        "                numbers.append(num)  # Add the number to the list\n",
        "                break  # Exit the loop if input is valid\n",
        "            except ValueError:\n",
        "                print(\"Please enter a valid number.\")  # Handle invalid input\n",
        "\n",
        "    # Display the sum of all numbers in the list\n",
        "    total_sum = sum(numbers)\n",
        "    print(f\"The sum of the numbers is: {total_sum}\")\n",
        "\n",
        "    # Find the largest and smallest numbers in the list\n",
        "    largest_number = max(numbers)\n",
        "    smallest_number = min(numbers)\n",
        "\n",
        "    # Display the results\n",
        "    print(f\"The largest number in the list is: {largest_number}\")\n",
        "    print(f\"The smallest number in the list is: {smallest_number}\")\n",
        "\n",
        "# Call the function to execute\n",
        "list_operations()\n"
      ],
      "metadata": {
        "colab": {
          "base_uri": "https://localhost:8080/"
        },
        "id": "TzSDnOgaNEYb",
        "outputId": "1b30adfe-8835-4e99-e43e-40663402404e"
      },
      "execution_count": 23,
      "outputs": [
        {
          "output_type": "stream",
          "name": "stdout",
          "text": [
            "Enter number 1: 1\n",
            "Enter number 2: 2\n",
            "Enter number 3: 3\n",
            "Enter number 4: 4\n",
            "Enter number 5: 5\n",
            "The sum of the numbers is: 15.0\n",
            "The largest number in the list is: 5.0\n",
            "The smallest number in the list is: 1.0\n"
          ]
        }
      ]
    },
    {
      "cell_type": "code",
      "source": [
        "# Exercise 8: List Manipulation\n",
        "# 1. Create a list of 5 of your favorite fruits.\n",
        "# 2. Perform the following:\n",
        "# o Add one more fruit to the list.\n",
        "# o Remove the second fruit from the list. o Print the updated list.\n",
        "\n",
        "# Create a list of 5 favorite fruits\n",
        "fruits = [\"Apple\", \"Banana\", \"Cherry\", \"Mango\", \"Orange\"]\n",
        "\n",
        "# Add one more fruit to the list\n",
        "fruits.append(\"Pineapple\")\n",
        "\n",
        "# Remove the second fruit from the list\n",
        "if len(fruits) > 1:  # Check if there are at least two fruits to remove\n",
        "  removed_fruit = fruits.pop(1)  # Remove the fruit at index 1 (the second fruit)\n",
        "  print(f\"Removed fruit: {removed_fruit}\")\n",
        "\n",
        "# Print the updated list of fruits\n",
        "print(\"Updated list of fruits:\", fruits)\n",
        "\n",
        "\n"
      ],
      "metadata": {
        "colab": {
          "base_uri": "https://localhost:8080/"
        },
        "id": "a2yOXPrsOFSb",
        "outputId": "95e408c9-ee8a-4218-8ccb-022ebe2cfc8d"
      },
      "execution_count": 24,
      "outputs": [
        {
          "output_type": "stream",
          "name": "stdout",
          "text": [
            "Removed fruit: Banana\n",
            "Updated list of fruits: ['Apple', 'Cherry', 'Mango', 'Orange', 'Pineapple']\n"
          ]
        }
      ]
    },
    {
      "cell_type": "code",
      "source": [
        "# Exercise 9: Sorting a List\n",
        "# Write a Python program that:\n",
        "# 1. Asks the user to input a list of 5 numbers.\n",
        "# 2. Sorts the list in ascending order and displays it.\n",
        "# 3. Sorts the list in descending order and displays it.\n",
        "\n",
        "\n",
        "numbers = []  # Initialize an empty list\n",
        "\n",
        "# Asking the user for 5 numbers\n",
        "for i in range(5):\n",
        "    while True:  # Loop until a valid number is entered\n",
        "         try:\n",
        "                num = float(input(f\"Enter number {i + 1}: \"))  # Take input and convert to float\n",
        "                numbers.append(num)  # Add the number to the list\n",
        "                break  # Exit the loop if input is valid\n",
        "         except ValueError:\n",
        "                print(\"Please enter a valid number.\")  # Handle invalid input\n",
        "\n",
        "    # Sorting the list in ascending order\n",
        "    ascending_order = sorted(numbers)\n",
        "    print(\"Sorted list in ascending order:\", ascending_order)\n",
        "\n",
        "    # Sorting the list in descending order\n",
        "    descending_order = sorted(numbers, reverse=True)\n",
        "    print(\"Sorted list in descending order:\", descending_order)\n",
        "\n",
        "\n"
      ],
      "metadata": {
        "colab": {
          "base_uri": "https://localhost:8080/"
        },
        "id": "xROVak8jOuEj",
        "outputId": "15a749bf-df04-40d1-ef6d-655969aa4792"
      },
      "execution_count": 25,
      "outputs": [
        {
          "output_type": "stream",
          "name": "stdout",
          "text": [
            "Enter number 1: 12\n",
            "Sorted list in ascending order: [12.0]\n",
            "Sorted list in descending order: [12.0]\n",
            "Enter number 2: 16\n",
            "Sorted list in ascending order: [12.0, 16.0]\n",
            "Sorted list in descending order: [16.0, 12.0]\n",
            "Enter number 3: 18\n",
            "Sorted list in ascending order: [12.0, 16.0, 18.0]\n",
            "Sorted list in descending order: [18.0, 16.0, 12.0]\n",
            "Enter number 4: 10\n",
            "Sorted list in ascending order: [10.0, 12.0, 16.0, 18.0]\n",
            "Sorted list in descending order: [18.0, 16.0, 12.0, 10.0]\n",
            "Enter number 5: 20\n",
            "Sorted list in ascending order: [10.0, 12.0, 16.0, 18.0, 20.0]\n",
            "Sorted list in descending order: [20.0, 18.0, 16.0, 12.0, 10.0]\n"
          ]
        }
      ]
    },
    {
      "cell_type": "code",
      "source": [
        "# Exercise 10: List Slicing\n",
        "# Given the list numbers = [1, 2, 3, 4, 5, 6, 7, 8, 9, 10], perform the following:\n",
        "# 1. Print the first 5 elements.\n",
        "# 2. Print the last 5 elements.\n",
        "# 3. Print the elements from index 2 to index 7.\n",
        "\n",
        "# Given list of numbers\n",
        "numbers = [1, 2, 3, 4, 5, 6, 7, 8, 9, 10]\n",
        "\n",
        "# Step 1: Print the first 5 elements\n",
        "first_five = numbers[:5]\n",
        "print(\"First 5 elements:\", first_five)\n",
        "\n",
        "# Step 2: Print the last 5 elements\n",
        "last_five = numbers[-5:]\n",
        "print(\"Last 5 elements:\", last_five)\n",
        "\n",
        "# Step 3: Print the elements from index 2 to index 7\n",
        "slice_index = numbers[2:8]  # Note: 8 is exclusive\n",
        "print(\"Elements from index 2 to index 7:\", slice_index)\n"
      ],
      "metadata": {
        "colab": {
          "base_uri": "https://localhost:8080/"
        },
        "id": "Ye6t5TigPqQu",
        "outputId": "bb7aaca9-614e-4808-9e05-53f490cf18a7"
      },
      "execution_count": 26,
      "outputs": [
        {
          "output_type": "stream",
          "name": "stdout",
          "text": [
            "First 5 elements: [1, 2, 3, 4, 5]\n",
            "Last 5 elements: [6, 7, 8, 9, 10]\n",
            "Elements from index 2 to index 7: [3, 4, 5, 6, 7, 8]\n"
          ]
        }
      ]
    },
    {
      "cell_type": "code",
      "source": [
        "# Bonus Challenge Exercise 11: Nested List Write a Python program that:\n",
        "# 1. Takes input of 3 students' names and their respective scores in 3 subjects.\n",
        "# 2. Stores them in a nested list.\n",
        "# 3. Prints each student's name and their average score.\n",
        "\n",
        "# Function to handle student scores and calculate averages\n",
        "def student_scores():\n",
        "    students = []  # Initialize an empty list to store student data\n",
        "\n",
        "    # Taking input for 3 students\n",
        "    for i in range(3):\n",
        "        name = input(f\"Enter the name of student {i + 1}: \")  # Get student name\n",
        "        scores = []  # Initialize an empty list for scores\n",
        "\n",
        "        # Taking input for 3 subjects\n",
        "        for j in range(3):\n",
        "            while True:  # Loop until a valid score is entered\n",
        "                try:\n",
        "                    score = float(input(f\"Enter score for subject {j + 1}: \"))  # Get subject score\n",
        "                    scores.append(score)  # Add score to the list\n",
        "                    break  # Exit the loop if input is valid\n",
        "                except ValueError:\n",
        "                    print(\"Please enter a valid score.\")  # Handle invalid input\n",
        "\n",
        "        # Append the student's name and scores to the students list\n",
        "        students.append([name, scores])\n",
        "\n",
        "    # Print each student's name and their average score\n",
        "    print(\"\\nStudent Average Scores:\")\n",
        "    for student in students:\n",
        "        name = student[0]  # Student's name\n",
        "        scores = student[1]  # Student's scores\n",
        "        average_score = sum(scores) / len(scores)  # Calculate average score\n",
        "        print(f\"{name}: Average Score = {average_score:.2f}\")\n",
        "\n",
        "# Call the function to execute\n",
        "student_scores()\n",
        "\n",
        "\n",
        "\n",
        "\n"
      ],
      "metadata": {
        "colab": {
          "base_uri": "https://localhost:8080/"
        },
        "id": "bOsCAPAMQGnq",
        "outputId": "7fa76100-ded7-422d-bb51-68feb5018495"
      },
      "execution_count": 27,
      "outputs": [
        {
          "output_type": "stream",
          "name": "stdout",
          "text": [
            "Enter the name of student 1: yash\n",
            "Enter score for subject 1: data science\n",
            "Please enter a valid score.\n",
            "Enter score for subject 1: 70\n",
            "Enter score for subject 2: 90\n",
            "Enter score for subject 3: 80\n",
            "Enter the name of student 2: vishv\n",
            "Enter score for subject 1: 80\n",
            "Enter score for subject 2: 78\n",
            "Enter score for subject 3: 76\n",
            "Enter the name of student 3: miyani\n",
            "Enter score for subject 1: 67\n",
            "Enter score for subject 2: 78\n",
            "Enter score for subject 3: 87\n",
            "\n",
            "Student Average Scores:\n",
            "yash: Average Score = 80.00\n",
            "vishv: Average Score = 78.00\n",
            "miyani: Average Score = 77.33\n"
          ]
        }
      ]
    }
  ]
}